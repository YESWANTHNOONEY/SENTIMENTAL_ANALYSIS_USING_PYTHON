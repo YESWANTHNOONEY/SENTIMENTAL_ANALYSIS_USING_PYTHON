{
 "cells": [
  {
   "cell_type": "markdown",
   "id": "a64bc758-be13-4b73-8ecc-ce5d202e5c2b",
   "metadata": {},
   "source": [
    "# Sentiment Analysis and Review Insights: Patterns, Ratings, and Customer Feedback Trends"
   ]
  },
  {
   "cell_type": "code",
   "execution_count": 223,
   "id": "bdb6adcf-e475-4c25-850b-4b386c8be4f1",
   "metadata": {},
   "outputs": [],
   "source": [
    "# Import required Libraries\n",
    "import pandas as pd\n",
    "import nltk\n",
    "from nltk.sentiment import SentimentIntensityAnalyzer\n",
    "import matplotlib.pyplot as plt\n",
    "import seaborn as sns\n",
    "import warnings\n",
    "warnings.simplefilter(action='ignore', category=FutureWarning)"
   ]
  },
  {
   "cell_type": "code",
   "execution_count": 224,
   "id": "13b5fdec-e34e-4a82-a604-d226d2967ec3",
   "metadata": {},
   "outputs": [],
   "source": [
    "# Load dataset\n",
    "df = pd.read_csv(r\"D:\\OneDrive\\Desktop\\IFIM\\4TH SEM\\DWDM\\SENTIMENTAL ANALYSIS\\SENTIMENTAL ANALYSIS.csv\")"
   ]
  },
  {
   "cell_type": "code",
   "execution_count": 225,
   "id": "45d6b567-8c60-4823-8068-7fb1ccbd8592",
   "metadata": {},
   "outputs": [
    {
     "data": {
      "text/html": [
       "<div>\n",
       "<style scoped>\n",
       "    .dataframe tbody tr th:only-of-type {\n",
       "        vertical-align: middle;\n",
       "    }\n",
       "\n",
       "    .dataframe tbody tr th {\n",
       "        vertical-align: top;\n",
       "    }\n",
       "\n",
       "    .dataframe thead th {\n",
       "        text-align: right;\n",
       "    }\n",
       "</style>\n",
       "<table border=\"1\" class=\"dataframe\">\n",
       "  <thead>\n",
       "    <tr style=\"text-align: right;\">\n",
       "      <th></th>\n",
       "      <th>Review_ID</th>\n",
       "      <th>User_ID</th>\n",
       "      <th>Review_Text</th>\n",
       "      <th>Sentiment</th>\n",
       "      <th>Rating</th>\n",
       "      <th>Review_Date</th>\n",
       "      <th>Product_ID</th>\n",
       "      <th>Category</th>\n",
       "    </tr>\n",
       "  </thead>\n",
       "  <tbody>\n",
       "    <tr>\n",
       "      <th>0</th>\n",
       "      <td>d401840e-8d29-4047-a2a6-41e98edfd40f</td>\n",
       "      <td>a99f69ef-9d34-42ea-8855-9d97f425d458</td>\n",
       "      <td>Level mouth account grow kitchen the televisio...</td>\n",
       "      <td>Neutral</td>\n",
       "      <td>2</td>\n",
       "      <td>2022-06-13</td>\n",
       "      <td>00e602e3-0a7d-4c9a-9680-45a6bcc28966</td>\n",
       "      <td>Clothing</td>\n",
       "    </tr>\n",
       "    <tr>\n",
       "      <th>1</th>\n",
       "      <td>1e4fb76e-ea0e-4406-b7ed-37da08d2d75c</td>\n",
       "      <td>c95f831f-29ad-40f4-aa89-599d38a9aad1</td>\n",
       "      <td>Once store experience pretty resource somethin...</td>\n",
       "      <td>Negative</td>\n",
       "      <td>2</td>\n",
       "      <td>2023-06-18</td>\n",
       "      <td>f2b1990a-38ef-4890-9c41-741f19420fdf</td>\n",
       "      <td>Electronics</td>\n",
       "    </tr>\n",
       "    <tr>\n",
       "      <th>2</th>\n",
       "      <td>9c026e42-9c5c-4831-9dba-830817e99e2d</td>\n",
       "      <td>ea89ddde-4229-4f04-bbef-4fed840c1b9b</td>\n",
       "      <td>Accept eye surface too least son some generati...</td>\n",
       "      <td>Negative</td>\n",
       "      <td>5</td>\n",
       "      <td>2022-04-25</td>\n",
       "      <td>f50fc723-c98f-4c78-84f1-ea5929d05e6b</td>\n",
       "      <td>Clothing</td>\n",
       "    </tr>\n",
       "    <tr>\n",
       "      <th>3</th>\n",
       "      <td>a328580e-1e33-442c-9baa-810250067fbd</td>\n",
       "      <td>9180647d-394e-4702-99e8-455c6459d096</td>\n",
       "      <td>Everyone series happy off itself prepare witho...</td>\n",
       "      <td>Neutral</td>\n",
       "      <td>1</td>\n",
       "      <td>2023-03-01</td>\n",
       "      <td>73b98918-36f6-48a1-8cc1-adc5f6b81a17</td>\n",
       "      <td>Home &amp; Kitchen</td>\n",
       "    </tr>\n",
       "    <tr>\n",
       "      <th>4</th>\n",
       "      <td>ee6e798d-a12e-4485-9fd7-e3c4b543b9f1</td>\n",
       "      <td>2eea5017-48e7-4668-8fd1-0356fac55ad0</td>\n",
       "      <td>News physical food seek something life indicat...</td>\n",
       "      <td>Positive</td>\n",
       "      <td>1</td>\n",
       "      <td>2022-08-20</td>\n",
       "      <td>1ffe0bbd-92c8-4c25-921c-325b106bb24c</td>\n",
       "      <td>Home &amp; Kitchen</td>\n",
       "    </tr>\n",
       "    <tr>\n",
       "      <th>...</th>\n",
       "      <td>...</td>\n",
       "      <td>...</td>\n",
       "      <td>...</td>\n",
       "      <td>...</td>\n",
       "      <td>...</td>\n",
       "      <td>...</td>\n",
       "      <td>...</td>\n",
       "      <td>...</td>\n",
       "    </tr>\n",
       "    <tr>\n",
       "      <th>49995</th>\n",
       "      <td>f4b8d324-8275-4724-b6dd-680feab58a14</td>\n",
       "      <td>e45e729d-30f0-4a78-871d-83c9605bea7f</td>\n",
       "      <td>Just position if street her its begin.</td>\n",
       "      <td>Neutral</td>\n",
       "      <td>5</td>\n",
       "      <td>2023-11-12</td>\n",
       "      <td>54ad3189-3bbc-4166-9e50-8b2a03717c1c</td>\n",
       "      <td>Electronics</td>\n",
       "    </tr>\n",
       "    <tr>\n",
       "      <th>49996</th>\n",
       "      <td>dfada261-1c82-4255-88ad-8243be6b8ea5</td>\n",
       "      <td>1e1675fd-4c09-4614-8203-9103361636f7</td>\n",
       "      <td>Blood price listen nor ten other fast agent ow...</td>\n",
       "      <td>Positive</td>\n",
       "      <td>1</td>\n",
       "      <td>2022-12-27</td>\n",
       "      <td>a7713495-9a7b-4040-9e73-147f9e2aa78e</td>\n",
       "      <td>Electronics</td>\n",
       "    </tr>\n",
       "    <tr>\n",
       "      <th>49997</th>\n",
       "      <td>b2fa3103-ae24-41c5-ad26-bc1885efaecd</td>\n",
       "      <td>5f0d831a-8a2e-4c12-be9a-5a096139c3e1</td>\n",
       "      <td>Worker discuss adult do low process less proje...</td>\n",
       "      <td>Positive</td>\n",
       "      <td>3</td>\n",
       "      <td>2023-09-28</td>\n",
       "      <td>0eeebc2b-bebc-4f2f-ac42-bd9527129e3e</td>\n",
       "      <td>Books</td>\n",
       "    </tr>\n",
       "    <tr>\n",
       "      <th>49998</th>\n",
       "      <td>3b945567-04cb-4265-b6d1-0202fc4293df</td>\n",
       "      <td>4396d154-aea7-4702-b3eb-3889bd26e58b</td>\n",
       "      <td>Quickly already outside player learn language ...</td>\n",
       "      <td>Positive</td>\n",
       "      <td>2</td>\n",
       "      <td>2022-05-04</td>\n",
       "      <td>2f34238d-2eba-4bef-bc50-65fd9691b4f7</td>\n",
       "      <td>Books</td>\n",
       "    </tr>\n",
       "    <tr>\n",
       "      <th>49999</th>\n",
       "      <td>bb8ebcad-35ed-40d5-a76d-0a3a5f4f23e9</td>\n",
       "      <td>5a7a8e05-c508-492e-a13a-6fb1ba0c050a</td>\n",
       "      <td>Head effect beat learn eat laugh believe magaz...</td>\n",
       "      <td>Negative</td>\n",
       "      <td>4</td>\n",
       "      <td>2022-03-17</td>\n",
       "      <td>e51e7597-f8e7-4fb9-b633-17cd156ee3c4</td>\n",
       "      <td>Electronics</td>\n",
       "    </tr>\n",
       "  </tbody>\n",
       "</table>\n",
       "<p>50000 rows × 8 columns</p>\n",
       "</div>"
      ],
      "text/plain": [
       "                                  Review_ID  \\\n",
       "0      d401840e-8d29-4047-a2a6-41e98edfd40f   \n",
       "1      1e4fb76e-ea0e-4406-b7ed-37da08d2d75c   \n",
       "2      9c026e42-9c5c-4831-9dba-830817e99e2d   \n",
       "3      a328580e-1e33-442c-9baa-810250067fbd   \n",
       "4      ee6e798d-a12e-4485-9fd7-e3c4b543b9f1   \n",
       "...                                     ...   \n",
       "49995  f4b8d324-8275-4724-b6dd-680feab58a14   \n",
       "49996  dfada261-1c82-4255-88ad-8243be6b8ea5   \n",
       "49997  b2fa3103-ae24-41c5-ad26-bc1885efaecd   \n",
       "49998  3b945567-04cb-4265-b6d1-0202fc4293df   \n",
       "49999  bb8ebcad-35ed-40d5-a76d-0a3a5f4f23e9   \n",
       "\n",
       "                                    User_ID  \\\n",
       "0      a99f69ef-9d34-42ea-8855-9d97f425d458   \n",
       "1      c95f831f-29ad-40f4-aa89-599d38a9aad1   \n",
       "2      ea89ddde-4229-4f04-bbef-4fed840c1b9b   \n",
       "3      9180647d-394e-4702-99e8-455c6459d096   \n",
       "4      2eea5017-48e7-4668-8fd1-0356fac55ad0   \n",
       "...                                     ...   \n",
       "49995  e45e729d-30f0-4a78-871d-83c9605bea7f   \n",
       "49996  1e1675fd-4c09-4614-8203-9103361636f7   \n",
       "49997  5f0d831a-8a2e-4c12-be9a-5a096139c3e1   \n",
       "49998  4396d154-aea7-4702-b3eb-3889bd26e58b   \n",
       "49999  5a7a8e05-c508-492e-a13a-6fb1ba0c050a   \n",
       "\n",
       "                                             Review_Text Sentiment  Rating  \\\n",
       "0      Level mouth account grow kitchen the televisio...   Neutral       2   \n",
       "1      Once store experience pretty resource somethin...  Negative       2   \n",
       "2      Accept eye surface too least son some generati...  Negative       5   \n",
       "3      Everyone series happy off itself prepare witho...   Neutral       1   \n",
       "4      News physical food seek something life indicat...  Positive       1   \n",
       "...                                                  ...       ...     ...   \n",
       "49995             Just position if street her its begin.   Neutral       5   \n",
       "49996  Blood price listen nor ten other fast agent ow...  Positive       1   \n",
       "49997  Worker discuss adult do low process less proje...  Positive       3   \n",
       "49998  Quickly already outside player learn language ...  Positive       2   \n",
       "49999  Head effect beat learn eat laugh believe magaz...  Negative       4   \n",
       "\n",
       "      Review_Date                            Product_ID        Category  \n",
       "0      2022-06-13  00e602e3-0a7d-4c9a-9680-45a6bcc28966        Clothing  \n",
       "1      2023-06-18  f2b1990a-38ef-4890-9c41-741f19420fdf     Electronics  \n",
       "2      2022-04-25  f50fc723-c98f-4c78-84f1-ea5929d05e6b        Clothing  \n",
       "3      2023-03-01  73b98918-36f6-48a1-8cc1-adc5f6b81a17  Home & Kitchen  \n",
       "4      2022-08-20  1ffe0bbd-92c8-4c25-921c-325b106bb24c  Home & Kitchen  \n",
       "...           ...                                   ...             ...  \n",
       "49995  2023-11-12  54ad3189-3bbc-4166-9e50-8b2a03717c1c     Electronics  \n",
       "49996  2022-12-27  a7713495-9a7b-4040-9e73-147f9e2aa78e     Electronics  \n",
       "49997  2023-09-28  0eeebc2b-bebc-4f2f-ac42-bd9527129e3e           Books  \n",
       "49998  2022-05-04  2f34238d-2eba-4bef-bc50-65fd9691b4f7           Books  \n",
       "49999  2022-03-17  e51e7597-f8e7-4fb9-b633-17cd156ee3c4     Electronics  \n",
       "\n",
       "[50000 rows x 8 columns]"
      ]
     },
     "execution_count": 225,
     "metadata": {},
     "output_type": "execute_result"
    }
   ],
   "source": [
    "df"
   ]
  },
  {
   "cell_type": "code",
   "execution_count": 226,
   "id": "eb87108c-4875-4241-9238-dfa388acf1b5",
   "metadata": {},
   "outputs": [
    {
     "data": {
      "text/html": [
       "<div>\n",
       "<style scoped>\n",
       "    .dataframe tbody tr th:only-of-type {\n",
       "        vertical-align: middle;\n",
       "    }\n",
       "\n",
       "    .dataframe tbody tr th {\n",
       "        vertical-align: top;\n",
       "    }\n",
       "\n",
       "    .dataframe thead th {\n",
       "        text-align: right;\n",
       "    }\n",
       "</style>\n",
       "<table border=\"1\" class=\"dataframe\">\n",
       "  <thead>\n",
       "    <tr style=\"text-align: right;\">\n",
       "      <th></th>\n",
       "      <th>Review_ID</th>\n",
       "      <th>User_ID</th>\n",
       "      <th>Review_Text</th>\n",
       "      <th>Sentiment</th>\n",
       "      <th>Rating</th>\n",
       "      <th>Review_Date</th>\n",
       "      <th>Product_ID</th>\n",
       "      <th>Category</th>\n",
       "    </tr>\n",
       "  </thead>\n",
       "  <tbody>\n",
       "    <tr>\n",
       "      <th>28640</th>\n",
       "      <td>dcfae5f7-c793-447c-b1c7-c50e600c5a47</td>\n",
       "      <td>29d3508e-3b49-459d-9777-03a83abe0acf</td>\n",
       "      <td>Camera party believe fill age lay peace condit...</td>\n",
       "      <td>Neutral</td>\n",
       "      <td>3</td>\n",
       "      <td>2023-10-11</td>\n",
       "      <td>fca24042-c43d-4284-88f0-1d02b18fe318</td>\n",
       "      <td>Beauty</td>\n",
       "    </tr>\n",
       "  </tbody>\n",
       "</table>\n",
       "</div>"
      ],
      "text/plain": [
       "                                  Review_ID  \\\n",
       "28640  dcfae5f7-c793-447c-b1c7-c50e600c5a47   \n",
       "\n",
       "                                    User_ID  \\\n",
       "28640  29d3508e-3b49-459d-9777-03a83abe0acf   \n",
       "\n",
       "                                             Review_Text Sentiment  Rating  \\\n",
       "28640  Camera party believe fill age lay peace condit...   Neutral       3   \n",
       "\n",
       "      Review_Date                            Product_ID Category  \n",
       "28640  2023-10-11  fca24042-c43d-4284-88f0-1d02b18fe318   Beauty  "
      ]
     },
     "execution_count": 226,
     "metadata": {},
     "output_type": "execute_result"
    }
   ],
   "source": [
    "df.sample()"
   ]
  },
  {
   "cell_type": "code",
   "execution_count": 227,
   "id": "554bbcae-ac13-4b30-9475-66db7f16b83e",
   "metadata": {},
   "outputs": [
    {
     "data": {
      "text/plain": [
       "(50000, 8)"
      ]
     },
     "execution_count": 227,
     "metadata": {},
     "output_type": "execute_result"
    }
   ],
   "source": [
    "df.shape"
   ]
  },
  {
   "cell_type": "code",
   "execution_count": 228,
   "id": "6ac51395-a75f-4b4c-aaeb-453a273ff54b",
   "metadata": {},
   "outputs": [
    {
     "data": {
      "text/plain": [
       "Index(['Review_ID', 'User_ID', 'Review_Text', 'Sentiment', 'Rating',\n",
       "       'Review_Date', 'Product_ID', 'Category'],\n",
       "      dtype='object')"
      ]
     },
     "execution_count": 228,
     "metadata": {},
     "output_type": "execute_result"
    }
   ],
   "source": [
    "df.columns"
   ]
  },
  {
   "cell_type": "code",
   "execution_count": 229,
   "id": "dfb4295d-a05f-4994-a2d1-43bfadf7158f",
   "metadata": {},
   "outputs": [
    {
     "data": {
      "text/html": [
       "<div>\n",
       "<style scoped>\n",
       "    .dataframe tbody tr th:only-of-type {\n",
       "        vertical-align: middle;\n",
       "    }\n",
       "\n",
       "    .dataframe tbody tr th {\n",
       "        vertical-align: top;\n",
       "    }\n",
       "\n",
       "    .dataframe thead th {\n",
       "        text-align: right;\n",
       "    }\n",
       "</style>\n",
       "<table border=\"1\" class=\"dataframe\">\n",
       "  <thead>\n",
       "    <tr style=\"text-align: right;\">\n",
       "      <th></th>\n",
       "      <th>Review_ID</th>\n",
       "      <th>User_ID</th>\n",
       "      <th>Review_Text</th>\n",
       "      <th>Sentiment</th>\n",
       "      <th>Rating</th>\n",
       "      <th>Review_Date</th>\n",
       "      <th>Product_ID</th>\n",
       "      <th>Category</th>\n",
       "    </tr>\n",
       "  </thead>\n",
       "  <tbody>\n",
       "    <tr>\n",
       "      <th>0</th>\n",
       "      <td>d401840e-8d29-4047-a2a6-41e98edfd40f</td>\n",
       "      <td>a99f69ef-9d34-42ea-8855-9d97f425d458</td>\n",
       "      <td>Level mouth account grow kitchen the televisio...</td>\n",
       "      <td>Neutral</td>\n",
       "      <td>2</td>\n",
       "      <td>2022-06-13</td>\n",
       "      <td>00e602e3-0a7d-4c9a-9680-45a6bcc28966</td>\n",
       "      <td>Clothing</td>\n",
       "    </tr>\n",
       "    <tr>\n",
       "      <th>1</th>\n",
       "      <td>1e4fb76e-ea0e-4406-b7ed-37da08d2d75c</td>\n",
       "      <td>c95f831f-29ad-40f4-aa89-599d38a9aad1</td>\n",
       "      <td>Once store experience pretty resource somethin...</td>\n",
       "      <td>Negative</td>\n",
       "      <td>2</td>\n",
       "      <td>2023-06-18</td>\n",
       "      <td>f2b1990a-38ef-4890-9c41-741f19420fdf</td>\n",
       "      <td>Electronics</td>\n",
       "    </tr>\n",
       "    <tr>\n",
       "      <th>2</th>\n",
       "      <td>9c026e42-9c5c-4831-9dba-830817e99e2d</td>\n",
       "      <td>ea89ddde-4229-4f04-bbef-4fed840c1b9b</td>\n",
       "      <td>Accept eye surface too least son some generati...</td>\n",
       "      <td>Negative</td>\n",
       "      <td>5</td>\n",
       "      <td>2022-04-25</td>\n",
       "      <td>f50fc723-c98f-4c78-84f1-ea5929d05e6b</td>\n",
       "      <td>Clothing</td>\n",
       "    </tr>\n",
       "    <tr>\n",
       "      <th>3</th>\n",
       "      <td>a328580e-1e33-442c-9baa-810250067fbd</td>\n",
       "      <td>9180647d-394e-4702-99e8-455c6459d096</td>\n",
       "      <td>Everyone series happy off itself prepare witho...</td>\n",
       "      <td>Neutral</td>\n",
       "      <td>1</td>\n",
       "      <td>2023-03-01</td>\n",
       "      <td>73b98918-36f6-48a1-8cc1-adc5f6b81a17</td>\n",
       "      <td>Home &amp; Kitchen</td>\n",
       "    </tr>\n",
       "    <tr>\n",
       "      <th>4</th>\n",
       "      <td>ee6e798d-a12e-4485-9fd7-e3c4b543b9f1</td>\n",
       "      <td>2eea5017-48e7-4668-8fd1-0356fac55ad0</td>\n",
       "      <td>News physical food seek something life indicat...</td>\n",
       "      <td>Positive</td>\n",
       "      <td>1</td>\n",
       "      <td>2022-08-20</td>\n",
       "      <td>1ffe0bbd-92c8-4c25-921c-325b106bb24c</td>\n",
       "      <td>Home &amp; Kitchen</td>\n",
       "    </tr>\n",
       "  </tbody>\n",
       "</table>\n",
       "</div>"
      ],
      "text/plain": [
       "                              Review_ID                               User_ID  \\\n",
       "0  d401840e-8d29-4047-a2a6-41e98edfd40f  a99f69ef-9d34-42ea-8855-9d97f425d458   \n",
       "1  1e4fb76e-ea0e-4406-b7ed-37da08d2d75c  c95f831f-29ad-40f4-aa89-599d38a9aad1   \n",
       "2  9c026e42-9c5c-4831-9dba-830817e99e2d  ea89ddde-4229-4f04-bbef-4fed840c1b9b   \n",
       "3  a328580e-1e33-442c-9baa-810250067fbd  9180647d-394e-4702-99e8-455c6459d096   \n",
       "4  ee6e798d-a12e-4485-9fd7-e3c4b543b9f1  2eea5017-48e7-4668-8fd1-0356fac55ad0   \n",
       "\n",
       "                                         Review_Text Sentiment  Rating  \\\n",
       "0  Level mouth account grow kitchen the televisio...   Neutral       2   \n",
       "1  Once store experience pretty resource somethin...  Negative       2   \n",
       "2  Accept eye surface too least son some generati...  Negative       5   \n",
       "3  Everyone series happy off itself prepare witho...   Neutral       1   \n",
       "4  News physical food seek something life indicat...  Positive       1   \n",
       "\n",
       "  Review_Date                            Product_ID        Category  \n",
       "0  2022-06-13  00e602e3-0a7d-4c9a-9680-45a6bcc28966        Clothing  \n",
       "1  2023-06-18  f2b1990a-38ef-4890-9c41-741f19420fdf     Electronics  \n",
       "2  2022-04-25  f50fc723-c98f-4c78-84f1-ea5929d05e6b        Clothing  \n",
       "3  2023-03-01  73b98918-36f6-48a1-8cc1-adc5f6b81a17  Home & Kitchen  \n",
       "4  2022-08-20  1ffe0bbd-92c8-4c25-921c-325b106bb24c  Home & Kitchen  "
      ]
     },
     "execution_count": 229,
     "metadata": {},
     "output_type": "execute_result"
    }
   ],
   "source": [
    "df.head()"
   ]
  },
  {
   "cell_type": "code",
   "execution_count": 230,
   "id": "378676a9-08e5-4012-bba9-411c712bd85f",
   "metadata": {},
   "outputs": [
    {
     "data": {
      "text/plain": [
       "Review_ID      object\n",
       "User_ID        object\n",
       "Review_Text    object\n",
       "Sentiment      object\n",
       "Rating          int64\n",
       "Review_Date    object\n",
       "Product_ID     object\n",
       "Category       object\n",
       "dtype: object"
      ]
     },
     "execution_count": 230,
     "metadata": {},
     "output_type": "execute_result"
    }
   ],
   "source": [
    "df.dtypes"
   ]
  },
  {
   "cell_type": "code",
   "execution_count": 231,
   "id": "0ec4975c-8d39-4e6e-8ede-9087f04c9512",
   "metadata": {},
   "outputs": [
    {
     "data": {
      "text/plain": [
       "Review_ID      50000\n",
       "User_ID        50000\n",
       "Review_Text    50000\n",
       "Sentiment          3\n",
       "Rating             5\n",
       "Review_Date     1096\n",
       "Product_ID     50000\n",
       "Category           7\n",
       "dtype: int64"
      ]
     },
     "execution_count": 231,
     "metadata": {},
     "output_type": "execute_result"
    }
   ],
   "source": [
    "df.nunique()"
   ]
  },
  {
   "cell_type": "code",
   "execution_count": 232,
   "id": "2c0e541b-d05a-457d-b0f4-b41f0810cfaa",
   "metadata": {},
   "outputs": [
    {
     "data": {
      "text/plain": [
       "Review_ID      0\n",
       "User_ID        0\n",
       "Review_Text    0\n",
       "Sentiment      0\n",
       "Rating         0\n",
       "Review_Date    0\n",
       "Product_ID     0\n",
       "Category       0\n",
       "dtype: int64"
      ]
     },
     "execution_count": 232,
     "metadata": {},
     "output_type": "execute_result"
    }
   ],
   "source": [
    "df.isnull().sum()"
   ]
  },
  {
   "cell_type": "code",
   "execution_count": 233,
   "id": "6a6f36a5-86df-4a99-99ac-191b8b1becd9",
   "metadata": {},
   "outputs": [
    {
     "data": {
      "text/html": [
       "<div>\n",
       "<style scoped>\n",
       "    .dataframe tbody tr th:only-of-type {\n",
       "        vertical-align: middle;\n",
       "    }\n",
       "\n",
       "    .dataframe tbody tr th {\n",
       "        vertical-align: top;\n",
       "    }\n",
       "\n",
       "    .dataframe thead th {\n",
       "        text-align: right;\n",
       "    }\n",
       "</style>\n",
       "<table border=\"1\" class=\"dataframe\">\n",
       "  <thead>\n",
       "    <tr style=\"text-align: right;\">\n",
       "      <th></th>\n",
       "      <th>Rating</th>\n",
       "    </tr>\n",
       "  </thead>\n",
       "  <tbody>\n",
       "    <tr>\n",
       "      <th>count</th>\n",
       "      <td>50000.000000</td>\n",
       "    </tr>\n",
       "    <tr>\n",
       "      <th>mean</th>\n",
       "      <td>3.010460</td>\n",
       "    </tr>\n",
       "    <tr>\n",
       "      <th>std</th>\n",
       "      <td>1.413687</td>\n",
       "    </tr>\n",
       "    <tr>\n",
       "      <th>min</th>\n",
       "      <td>1.000000</td>\n",
       "    </tr>\n",
       "    <tr>\n",
       "      <th>25%</th>\n",
       "      <td>2.000000</td>\n",
       "    </tr>\n",
       "    <tr>\n",
       "      <th>50%</th>\n",
       "      <td>3.000000</td>\n",
       "    </tr>\n",
       "    <tr>\n",
       "      <th>75%</th>\n",
       "      <td>4.000000</td>\n",
       "    </tr>\n",
       "    <tr>\n",
       "      <th>max</th>\n",
       "      <td>5.000000</td>\n",
       "    </tr>\n",
       "  </tbody>\n",
       "</table>\n",
       "</div>"
      ],
      "text/plain": [
       "             Rating\n",
       "count  50000.000000\n",
       "mean       3.010460\n",
       "std        1.413687\n",
       "min        1.000000\n",
       "25%        2.000000\n",
       "50%        3.000000\n",
       "75%        4.000000\n",
       "max        5.000000"
      ]
     },
     "execution_count": 233,
     "metadata": {},
     "output_type": "execute_result"
    }
   ],
   "source": [
    "df.describe()"
   ]
  },
  {
   "cell_type": "code",
   "execution_count": 234,
   "id": "4e27c5aa-a9a5-4a0a-b1e0-df0f6fd1f406",
   "metadata": {},
   "outputs": [
    {
     "data": {
      "text/html": [
       "<div>\n",
       "<style scoped>\n",
       "    .dataframe tbody tr th:only-of-type {\n",
       "        vertical-align: middle;\n",
       "    }\n",
       "\n",
       "    .dataframe tbody tr th {\n",
       "        vertical-align: top;\n",
       "    }\n",
       "\n",
       "    .dataframe thead th {\n",
       "        text-align: right;\n",
       "    }\n",
       "</style>\n",
       "<table border=\"1\" class=\"dataframe\">\n",
       "  <thead>\n",
       "    <tr style=\"text-align: right;\">\n",
       "      <th></th>\n",
       "      <th>Review_ID</th>\n",
       "      <th>User_ID</th>\n",
       "      <th>Review_Text</th>\n",
       "      <th>Sentiment</th>\n",
       "      <th>Review_Date</th>\n",
       "      <th>Product_ID</th>\n",
       "      <th>Category</th>\n",
       "    </tr>\n",
       "  </thead>\n",
       "  <tbody>\n",
       "    <tr>\n",
       "      <th>count</th>\n",
       "      <td>50000</td>\n",
       "      <td>50000</td>\n",
       "      <td>50000</td>\n",
       "      <td>50000</td>\n",
       "      <td>50000</td>\n",
       "      <td>50000</td>\n",
       "      <td>50000</td>\n",
       "    </tr>\n",
       "    <tr>\n",
       "      <th>unique</th>\n",
       "      <td>50000</td>\n",
       "      <td>50000</td>\n",
       "      <td>50000</td>\n",
       "      <td>3</td>\n",
       "      <td>1096</td>\n",
       "      <td>50000</td>\n",
       "      <td>7</td>\n",
       "    </tr>\n",
       "    <tr>\n",
       "      <th>top</th>\n",
       "      <td>d401840e-8d29-4047-a2a6-41e98edfd40f</td>\n",
       "      <td>a99f69ef-9d34-42ea-8855-9d97f425d458</td>\n",
       "      <td>Level mouth account grow kitchen the televisio...</td>\n",
       "      <td>Positive</td>\n",
       "      <td>2025-02-05</td>\n",
       "      <td>00e602e3-0a7d-4c9a-9680-45a6bcc28966</td>\n",
       "      <td>Electronics</td>\n",
       "    </tr>\n",
       "    <tr>\n",
       "      <th>freq</th>\n",
       "      <td>1</td>\n",
       "      <td>1</td>\n",
       "      <td>1</td>\n",
       "      <td>30000</td>\n",
       "      <td>68</td>\n",
       "      <td>1</td>\n",
       "      <td>17500</td>\n",
       "    </tr>\n",
       "  </tbody>\n",
       "</table>\n",
       "</div>"
      ],
      "text/plain": [
       "                                   Review_ID  \\\n",
       "count                                  50000   \n",
       "unique                                 50000   \n",
       "top     d401840e-8d29-4047-a2a6-41e98edfd40f   \n",
       "freq                                       1   \n",
       "\n",
       "                                     User_ID  \\\n",
       "count                                  50000   \n",
       "unique                                 50000   \n",
       "top     a99f69ef-9d34-42ea-8855-9d97f425d458   \n",
       "freq                                       1   \n",
       "\n",
       "                                              Review_Text Sentiment  \\\n",
       "count                                               50000     50000   \n",
       "unique                                              50000         3   \n",
       "top     Level mouth account grow kitchen the televisio...  Positive   \n",
       "freq                                                    1     30000   \n",
       "\n",
       "       Review_Date                            Product_ID     Category  \n",
       "count        50000                                 50000        50000  \n",
       "unique        1096                                 50000            7  \n",
       "top     2025-02-05  00e602e3-0a7d-4c9a-9680-45a6bcc28966  Electronics  \n",
       "freq            68                                     1        17500  "
      ]
     },
     "execution_count": 234,
     "metadata": {},
     "output_type": "execute_result"
    }
   ],
   "source": [
    "df.describe(include = 'object')"
   ]
  },
  {
   "cell_type": "code",
   "execution_count": 235,
   "id": "f3eb4c16-eb26-4c15-9c30-872597099918",
   "metadata": {},
   "outputs": [
    {
     "name": "stderr",
     "output_type": "stream",
     "text": [
      "[nltk_data] Downloading package vader_lexicon to\n",
      "[nltk_data]     C:\\Users\\DELL\\AppData\\Roaming\\nltk_data...\n",
      "[nltk_data]   Package vader_lexicon is already up-to-date!\n"
     ]
    }
   ],
   "source": [
    "# Initialize VADER Sentiment Analyzer\n",
    "nltk.download('vader_lexicon')\n",
    "sia = SentimentIntensityAnalyzer()"
   ]
  },
  {
   "cell_type": "markdown",
   "id": "bbe42aae-16aa-4c70-b403-3560f0140a92",
   "metadata": {},
   "source": [
    "Code initializes the VADER (Valence Aware Dictionary and sEntiment Reasoner) sentiment analyzer, which is commonly used for analyzing sentiment in text, especially in social media and short informal texts. First, nltk.download('vader_lexicon') ensures that the VADER lexicon is available in the Natural Language Toolkit (NLTK), as it contains predefined word sentiment scores. Then, SentimentIntensityAnalyzer() is instantiated and assigned to sia, allowing the program to compute sentiment scores (positive, negative, neutral, and compound) for a given text input."
   ]
  },
  {
   "cell_type": "code",
   "execution_count": 237,
   "id": "462dc799-0c54-49ba-bfb6-813acaa08d28",
   "metadata": {},
   "outputs": [],
   "source": [
    "# Function to analyze sentiment using VADER\n",
    "def analyze_sentiment_vader(text):\n",
    "    if isinstance(text, str):\n",
    "        score = sia.polarity_scores(text)[\"compound\"]\n",
    "        if score >= 0.05:\n",
    "            return \"Positive\"\n",
    "        elif score <= -0.05:\n",
    "            return \"Negative\"\n",
    "        else:\n",
    "            return \"Neutral\"\n",
    "    return \"Neutral\""
   ]
  },
  {
   "cell_type": "markdown",
   "id": "c1defb56-dce8-4a0f-b0e0-1405548a7403",
   "metadata": {},
   "source": [
    "This function, `analyze_sentiment_vader(text)`, is designed to analyze the sentiment of a given text using the VADER (Valence Aware Dictionary and sEntiment Reasoner) sentiment analysis tool, which is commonly used for analyzing social media posts, product reviews, and general text sentiment. The function first checks if the input `text` is a string (to avoid errors when processing non-text values). If it is a valid string, it calculates the sentiment score using `sia.polarity_scores(text)`, where `sia` refers to an instance of the `SentimentIntensityAnalyzer` class from VADER. The function specifically extracts the `\"compound\"` score, which is a normalized value ranging from -1 to 1, representing the overall sentiment of the text. The function then classifies the sentiment into three categories based on predefined thresholds: if the compound score is `0.05` or higher, the sentiment is considered \"Positive\"; if it is `-0.05` or lower, it is classified as \"Negative\"; and if the score falls between `-0.05` and `0.05`, it is labeled as \"Neutral.\" This approach ensures a simple yet effective way of sentiment classification. If the input is not a valid string (such as `None` or a numerical value), the function defaults to returning `\"Neutral\"` to handle potential data inconsistencies gracefully. This function is particularly useful in sentiment analysis projects, allowing businesses, researchers, and analysts to automatically gauge public opinion, monitor customer feedback, and analyze social media trends efficiently."
   ]
  },
  {
   "cell_type": "code",
   "execution_count": 239,
   "id": "b2994169-8d45-4fca-b5d6-b2e351211c86",
   "metadata": {},
   "outputs": [
    {
     "data": {
      "text/html": [
       "<div>\n",
       "<style scoped>\n",
       "    .dataframe tbody tr th:only-of-type {\n",
       "        vertical-align: middle;\n",
       "    }\n",
       "\n",
       "    .dataframe tbody tr th {\n",
       "        vertical-align: top;\n",
       "    }\n",
       "\n",
       "    .dataframe thead th {\n",
       "        text-align: right;\n",
       "    }\n",
       "</style>\n",
       "<table border=\"1\" class=\"dataframe\">\n",
       "  <thead>\n",
       "    <tr style=\"text-align: right;\">\n",
       "      <th></th>\n",
       "      <th>Review_ID</th>\n",
       "      <th>User_ID</th>\n",
       "      <th>Review_Text</th>\n",
       "      <th>Sentiment</th>\n",
       "      <th>Rating</th>\n",
       "      <th>Review_Date</th>\n",
       "      <th>Product_ID</th>\n",
       "      <th>Category</th>\n",
       "    </tr>\n",
       "  </thead>\n",
       "  <tbody>\n",
       "    <tr>\n",
       "      <th>0</th>\n",
       "      <td>d401840e-8d29-4047-a2a6-41e98edfd40f</td>\n",
       "      <td>a99f69ef-9d34-42ea-8855-9d97f425d458</td>\n",
       "      <td>Level mouth account grow kitchen the televisio...</td>\n",
       "      <td>Neutral</td>\n",
       "      <td>2</td>\n",
       "      <td>2022-06-13</td>\n",
       "      <td>00e602e3-0a7d-4c9a-9680-45a6bcc28966</td>\n",
       "      <td>Clothing</td>\n",
       "    </tr>\n",
       "    <tr>\n",
       "      <th>1</th>\n",
       "      <td>1e4fb76e-ea0e-4406-b7ed-37da08d2d75c</td>\n",
       "      <td>c95f831f-29ad-40f4-aa89-599d38a9aad1</td>\n",
       "      <td>Once store experience pretty resource somethin...</td>\n",
       "      <td>Negative</td>\n",
       "      <td>2</td>\n",
       "      <td>2023-06-18</td>\n",
       "      <td>f2b1990a-38ef-4890-9c41-741f19420fdf</td>\n",
       "      <td>Electronics</td>\n",
       "    </tr>\n",
       "    <tr>\n",
       "      <th>2</th>\n",
       "      <td>9c026e42-9c5c-4831-9dba-830817e99e2d</td>\n",
       "      <td>ea89ddde-4229-4f04-bbef-4fed840c1b9b</td>\n",
       "      <td>Accept eye surface too least son some generati...</td>\n",
       "      <td>Negative</td>\n",
       "      <td>5</td>\n",
       "      <td>2022-04-25</td>\n",
       "      <td>f50fc723-c98f-4c78-84f1-ea5929d05e6b</td>\n",
       "      <td>Clothing</td>\n",
       "    </tr>\n",
       "    <tr>\n",
       "      <th>3</th>\n",
       "      <td>a328580e-1e33-442c-9baa-810250067fbd</td>\n",
       "      <td>9180647d-394e-4702-99e8-455c6459d096</td>\n",
       "      <td>Everyone series happy off itself prepare witho...</td>\n",
       "      <td>Neutral</td>\n",
       "      <td>1</td>\n",
       "      <td>2023-03-01</td>\n",
       "      <td>73b98918-36f6-48a1-8cc1-adc5f6b81a17</td>\n",
       "      <td>Home &amp; Kitchen</td>\n",
       "    </tr>\n",
       "    <tr>\n",
       "      <th>4</th>\n",
       "      <td>ee6e798d-a12e-4485-9fd7-e3c4b543b9f1</td>\n",
       "      <td>2eea5017-48e7-4668-8fd1-0356fac55ad0</td>\n",
       "      <td>News physical food seek something life indicat...</td>\n",
       "      <td>Positive</td>\n",
       "      <td>1</td>\n",
       "      <td>2022-08-20</td>\n",
       "      <td>1ffe0bbd-92c8-4c25-921c-325b106bb24c</td>\n",
       "      <td>Home &amp; Kitchen</td>\n",
       "    </tr>\n",
       "    <tr>\n",
       "      <th>...</th>\n",
       "      <td>...</td>\n",
       "      <td>...</td>\n",
       "      <td>...</td>\n",
       "      <td>...</td>\n",
       "      <td>...</td>\n",
       "      <td>...</td>\n",
       "      <td>...</td>\n",
       "      <td>...</td>\n",
       "    </tr>\n",
       "    <tr>\n",
       "      <th>49995</th>\n",
       "      <td>f4b8d324-8275-4724-b6dd-680feab58a14</td>\n",
       "      <td>e45e729d-30f0-4a78-871d-83c9605bea7f</td>\n",
       "      <td>Just position if street her its begin.</td>\n",
       "      <td>Neutral</td>\n",
       "      <td>5</td>\n",
       "      <td>2023-11-12</td>\n",
       "      <td>54ad3189-3bbc-4166-9e50-8b2a03717c1c</td>\n",
       "      <td>Electronics</td>\n",
       "    </tr>\n",
       "    <tr>\n",
       "      <th>49996</th>\n",
       "      <td>dfada261-1c82-4255-88ad-8243be6b8ea5</td>\n",
       "      <td>1e1675fd-4c09-4614-8203-9103361636f7</td>\n",
       "      <td>Blood price listen nor ten other fast agent ow...</td>\n",
       "      <td>Positive</td>\n",
       "      <td>1</td>\n",
       "      <td>2022-12-27</td>\n",
       "      <td>a7713495-9a7b-4040-9e73-147f9e2aa78e</td>\n",
       "      <td>Electronics</td>\n",
       "    </tr>\n",
       "    <tr>\n",
       "      <th>49997</th>\n",
       "      <td>b2fa3103-ae24-41c5-ad26-bc1885efaecd</td>\n",
       "      <td>5f0d831a-8a2e-4c12-be9a-5a096139c3e1</td>\n",
       "      <td>Worker discuss adult do low process less proje...</td>\n",
       "      <td>Positive</td>\n",
       "      <td>3</td>\n",
       "      <td>2023-09-28</td>\n",
       "      <td>0eeebc2b-bebc-4f2f-ac42-bd9527129e3e</td>\n",
       "      <td>Books</td>\n",
       "    </tr>\n",
       "    <tr>\n",
       "      <th>49998</th>\n",
       "      <td>3b945567-04cb-4265-b6d1-0202fc4293df</td>\n",
       "      <td>4396d154-aea7-4702-b3eb-3889bd26e58b</td>\n",
       "      <td>Quickly already outside player learn language ...</td>\n",
       "      <td>Positive</td>\n",
       "      <td>2</td>\n",
       "      <td>2022-05-04</td>\n",
       "      <td>2f34238d-2eba-4bef-bc50-65fd9691b4f7</td>\n",
       "      <td>Books</td>\n",
       "    </tr>\n",
       "    <tr>\n",
       "      <th>49999</th>\n",
       "      <td>bb8ebcad-35ed-40d5-a76d-0a3a5f4f23e9</td>\n",
       "      <td>5a7a8e05-c508-492e-a13a-6fb1ba0c050a</td>\n",
       "      <td>Head effect beat learn eat laugh believe magaz...</td>\n",
       "      <td>Negative</td>\n",
       "      <td>4</td>\n",
       "      <td>2022-03-17</td>\n",
       "      <td>e51e7597-f8e7-4fb9-b633-17cd156ee3c4</td>\n",
       "      <td>Electronics</td>\n",
       "    </tr>\n",
       "  </tbody>\n",
       "</table>\n",
       "<p>50000 rows × 8 columns</p>\n",
       "</div>"
      ],
      "text/plain": [
       "                                  Review_ID  \\\n",
       "0      d401840e-8d29-4047-a2a6-41e98edfd40f   \n",
       "1      1e4fb76e-ea0e-4406-b7ed-37da08d2d75c   \n",
       "2      9c026e42-9c5c-4831-9dba-830817e99e2d   \n",
       "3      a328580e-1e33-442c-9baa-810250067fbd   \n",
       "4      ee6e798d-a12e-4485-9fd7-e3c4b543b9f1   \n",
       "...                                     ...   \n",
       "49995  f4b8d324-8275-4724-b6dd-680feab58a14   \n",
       "49996  dfada261-1c82-4255-88ad-8243be6b8ea5   \n",
       "49997  b2fa3103-ae24-41c5-ad26-bc1885efaecd   \n",
       "49998  3b945567-04cb-4265-b6d1-0202fc4293df   \n",
       "49999  bb8ebcad-35ed-40d5-a76d-0a3a5f4f23e9   \n",
       "\n",
       "                                    User_ID  \\\n",
       "0      a99f69ef-9d34-42ea-8855-9d97f425d458   \n",
       "1      c95f831f-29ad-40f4-aa89-599d38a9aad1   \n",
       "2      ea89ddde-4229-4f04-bbef-4fed840c1b9b   \n",
       "3      9180647d-394e-4702-99e8-455c6459d096   \n",
       "4      2eea5017-48e7-4668-8fd1-0356fac55ad0   \n",
       "...                                     ...   \n",
       "49995  e45e729d-30f0-4a78-871d-83c9605bea7f   \n",
       "49996  1e1675fd-4c09-4614-8203-9103361636f7   \n",
       "49997  5f0d831a-8a2e-4c12-be9a-5a096139c3e1   \n",
       "49998  4396d154-aea7-4702-b3eb-3889bd26e58b   \n",
       "49999  5a7a8e05-c508-492e-a13a-6fb1ba0c050a   \n",
       "\n",
       "                                             Review_Text Sentiment  Rating  \\\n",
       "0      Level mouth account grow kitchen the televisio...   Neutral       2   \n",
       "1      Once store experience pretty resource somethin...  Negative       2   \n",
       "2      Accept eye surface too least son some generati...  Negative       5   \n",
       "3      Everyone series happy off itself prepare witho...   Neutral       1   \n",
       "4      News physical food seek something life indicat...  Positive       1   \n",
       "...                                                  ...       ...     ...   \n",
       "49995             Just position if street her its begin.   Neutral       5   \n",
       "49996  Blood price listen nor ten other fast agent ow...  Positive       1   \n",
       "49997  Worker discuss adult do low process less proje...  Positive       3   \n",
       "49998  Quickly already outside player learn language ...  Positive       2   \n",
       "49999  Head effect beat learn eat laugh believe magaz...  Negative       4   \n",
       "\n",
       "      Review_Date                            Product_ID        Category  \n",
       "0      2022-06-13  00e602e3-0a7d-4c9a-9680-45a6bcc28966        Clothing  \n",
       "1      2023-06-18  f2b1990a-38ef-4890-9c41-741f19420fdf     Electronics  \n",
       "2      2022-04-25  f50fc723-c98f-4c78-84f1-ea5929d05e6b        Clothing  \n",
       "3      2023-03-01  73b98918-36f6-48a1-8cc1-adc5f6b81a17  Home & Kitchen  \n",
       "4      2022-08-20  1ffe0bbd-92c8-4c25-921c-325b106bb24c  Home & Kitchen  \n",
       "...           ...                                   ...             ...  \n",
       "49995  2023-11-12  54ad3189-3bbc-4166-9e50-8b2a03717c1c     Electronics  \n",
       "49996  2022-12-27  a7713495-9a7b-4040-9e73-147f9e2aa78e     Electronics  \n",
       "49997  2023-09-28  0eeebc2b-bebc-4f2f-ac42-bd9527129e3e           Books  \n",
       "49998  2022-05-04  2f34238d-2eba-4bef-bc50-65fd9691b4f7           Books  \n",
       "49999  2022-03-17  e51e7597-f8e7-4fb9-b633-17cd156ee3c4     Electronics  \n",
       "\n",
       "[50000 rows x 8 columns]"
      ]
     },
     "execution_count": 239,
     "metadata": {},
     "output_type": "execute_result"
    }
   ],
   "source": [
    "df"
   ]
  },
  {
   "cell_type": "code",
   "execution_count": 240,
   "id": "a7c3fb2f-e34a-450f-b361-2b4df9fd5f60",
   "metadata": {},
   "outputs": [
    {
     "name": "stdout",
     "output_type": "stream",
     "text": [
      "Sentiment Analysis Completed!\n",
      "                                         Review_Text Predicted_Sentiment\n",
      "0  Level mouth account grow kitchen the televisio...            Positive\n",
      "1  Once store experience pretty resource somethin...            Positive\n",
      "2  Accept eye surface too least son some generati...            Positive\n",
      "3  Everyone series happy off itself prepare witho...            Positive\n",
      "4  News physical food seek something life indicat...             Neutral\n"
     ]
    }
   ],
   "source": [
    "# Apply sentiment analysis\n",
    "df[\"Predicted_Sentiment\"] = df[\"Review_Text\"].apply(analyze_sentiment_vader)\n",
    "print(\"Sentiment Analysis Completed!\")\n",
    "print(df[[\"Review_Text\", \"Predicted_Sentiment\"]].head())"
   ]
  },
  {
   "cell_type": "markdown",
   "id": "694b04bf-f28d-443d-9125-668799604694",
   "metadata": {},
   "source": [
    "It applies sentiment analysis to a dataset using the `analyze_sentiment_vader` function. It processes the `Review_Text` column in `df` (the DataFrame) by applying this function to each review, storing the resulting sentiment classification in a new column called `Predicted_Sentiment`. Once the sentiment analysis is completed, a confirmation message (\"Sentiment Analysis Completed!\") is printed. Finally, the first five rows of the DataFrame are displayed, showing the `Review_Text` alongside its corresponding `Predicted_Sentiment`, allowing a quick review of the analysis results."
   ]
  },
  {
   "cell_type": "code",
   "execution_count": 242,
   "id": "48fc4184-2745-4d39-9332-ea1a79e30ddc",
   "metadata": {},
   "outputs": [
    {
     "name": "stdout",
     "output_type": "stream",
     "text": [
      "Sentiment Analysis Accuracy: 43.49%\n"
     ]
    }
   ],
   "source": [
    "# Compare actual vs predicted sentiment\n",
    "df[\"Match\"] = df[\"Sentiment\"] == df[\"Predicted_Sentiment\"]\n",
    "accuracy = df[\"Match\"].mean() * 100\n",
    "print(f\"Sentiment Analysis Accuracy: {accuracy:.2f}%\")"
   ]
  },
  {
   "cell_type": "markdown",
   "id": "a8722521-ec18-480c-bfc0-5f863685c04c",
   "metadata": {},
   "source": [
    "It compares the actual sentiment (Sentiment) with the predicted sentiment (Predicted_Sentiment) for each entry in the dataset and creates a new column, Match, which stores True if both values are the same and False otherwise. Then, it calculates the accuracy by taking the mean of the Match column (where True is treated as 1 and False as 0), multiplying by 100 to convert it into a percentage, and finally prints the accuracy with two decimal places."
   ]
  },
  {
   "cell_type": "code",
   "execution_count": 244,
   "id": "63e49b3d-ab9a-4dbb-a4f0-b893b7889455",
   "metadata": {},
   "outputs": [
    {
     "data": {
      "text/html": [
       "<div>\n",
       "<style scoped>\n",
       "    .dataframe tbody tr th:only-of-type {\n",
       "        vertical-align: middle;\n",
       "    }\n",
       "\n",
       "    .dataframe tbody tr th {\n",
       "        vertical-align: top;\n",
       "    }\n",
       "\n",
       "    .dataframe thead th {\n",
       "        text-align: right;\n",
       "    }\n",
       "</style>\n",
       "<table border=\"1\" class=\"dataframe\">\n",
       "  <thead>\n",
       "    <tr style=\"text-align: right;\">\n",
       "      <th></th>\n",
       "      <th>Review_ID</th>\n",
       "      <th>User_ID</th>\n",
       "      <th>Review_Text</th>\n",
       "      <th>Sentiment</th>\n",
       "      <th>Rating</th>\n",
       "      <th>Review_Date</th>\n",
       "      <th>Product_ID</th>\n",
       "      <th>Category</th>\n",
       "      <th>Predicted_Sentiment</th>\n",
       "      <th>Match</th>\n",
       "    </tr>\n",
       "  </thead>\n",
       "  <tbody>\n",
       "    <tr>\n",
       "      <th>0</th>\n",
       "      <td>d401840e-8d29-4047-a2a6-41e98edfd40f</td>\n",
       "      <td>a99f69ef-9d34-42ea-8855-9d97f425d458</td>\n",
       "      <td>Level mouth account grow kitchen the televisio...</td>\n",
       "      <td>Neutral</td>\n",
       "      <td>2</td>\n",
       "      <td>2022-06-13</td>\n",
       "      <td>00e602e3-0a7d-4c9a-9680-45a6bcc28966</td>\n",
       "      <td>Clothing</td>\n",
       "      <td>Positive</td>\n",
       "      <td>False</td>\n",
       "    </tr>\n",
       "    <tr>\n",
       "      <th>1</th>\n",
       "      <td>1e4fb76e-ea0e-4406-b7ed-37da08d2d75c</td>\n",
       "      <td>c95f831f-29ad-40f4-aa89-599d38a9aad1</td>\n",
       "      <td>Once store experience pretty resource somethin...</td>\n",
       "      <td>Negative</td>\n",
       "      <td>2</td>\n",
       "      <td>2023-06-18</td>\n",
       "      <td>f2b1990a-38ef-4890-9c41-741f19420fdf</td>\n",
       "      <td>Electronics</td>\n",
       "      <td>Positive</td>\n",
       "      <td>False</td>\n",
       "    </tr>\n",
       "    <tr>\n",
       "      <th>2</th>\n",
       "      <td>9c026e42-9c5c-4831-9dba-830817e99e2d</td>\n",
       "      <td>ea89ddde-4229-4f04-bbef-4fed840c1b9b</td>\n",
       "      <td>Accept eye surface too least son some generati...</td>\n",
       "      <td>Negative</td>\n",
       "      <td>5</td>\n",
       "      <td>2022-04-25</td>\n",
       "      <td>f50fc723-c98f-4c78-84f1-ea5929d05e6b</td>\n",
       "      <td>Clothing</td>\n",
       "      <td>Positive</td>\n",
       "      <td>False</td>\n",
       "    </tr>\n",
       "    <tr>\n",
       "      <th>3</th>\n",
       "      <td>a328580e-1e33-442c-9baa-810250067fbd</td>\n",
       "      <td>9180647d-394e-4702-99e8-455c6459d096</td>\n",
       "      <td>Everyone series happy off itself prepare witho...</td>\n",
       "      <td>Neutral</td>\n",
       "      <td>1</td>\n",
       "      <td>2023-03-01</td>\n",
       "      <td>73b98918-36f6-48a1-8cc1-adc5f6b81a17</td>\n",
       "      <td>Home &amp; Kitchen</td>\n",
       "      <td>Positive</td>\n",
       "      <td>False</td>\n",
       "    </tr>\n",
       "    <tr>\n",
       "      <th>4</th>\n",
       "      <td>ee6e798d-a12e-4485-9fd7-e3c4b543b9f1</td>\n",
       "      <td>2eea5017-48e7-4668-8fd1-0356fac55ad0</td>\n",
       "      <td>News physical food seek something life indicat...</td>\n",
       "      <td>Positive</td>\n",
       "      <td>1</td>\n",
       "      <td>2022-08-20</td>\n",
       "      <td>1ffe0bbd-92c8-4c25-921c-325b106bb24c</td>\n",
       "      <td>Home &amp; Kitchen</td>\n",
       "      <td>Neutral</td>\n",
       "      <td>False</td>\n",
       "    </tr>\n",
       "  </tbody>\n",
       "</table>\n",
       "</div>"
      ],
      "text/plain": [
       "                              Review_ID                               User_ID  \\\n",
       "0  d401840e-8d29-4047-a2a6-41e98edfd40f  a99f69ef-9d34-42ea-8855-9d97f425d458   \n",
       "1  1e4fb76e-ea0e-4406-b7ed-37da08d2d75c  c95f831f-29ad-40f4-aa89-599d38a9aad1   \n",
       "2  9c026e42-9c5c-4831-9dba-830817e99e2d  ea89ddde-4229-4f04-bbef-4fed840c1b9b   \n",
       "3  a328580e-1e33-442c-9baa-810250067fbd  9180647d-394e-4702-99e8-455c6459d096   \n",
       "4  ee6e798d-a12e-4485-9fd7-e3c4b543b9f1  2eea5017-48e7-4668-8fd1-0356fac55ad0   \n",
       "\n",
       "                                         Review_Text Sentiment  Rating  \\\n",
       "0  Level mouth account grow kitchen the televisio...   Neutral       2   \n",
       "1  Once store experience pretty resource somethin...  Negative       2   \n",
       "2  Accept eye surface too least son some generati...  Negative       5   \n",
       "3  Everyone series happy off itself prepare witho...   Neutral       1   \n",
       "4  News physical food seek something life indicat...  Positive       1   \n",
       "\n",
       "  Review_Date                            Product_ID        Category  \\\n",
       "0  2022-06-13  00e602e3-0a7d-4c9a-9680-45a6bcc28966        Clothing   \n",
       "1  2023-06-18  f2b1990a-38ef-4890-9c41-741f19420fdf     Electronics   \n",
       "2  2022-04-25  f50fc723-c98f-4c78-84f1-ea5929d05e6b        Clothing   \n",
       "3  2023-03-01  73b98918-36f6-48a1-8cc1-adc5f6b81a17  Home & Kitchen   \n",
       "4  2022-08-20  1ffe0bbd-92c8-4c25-921c-325b106bb24c  Home & Kitchen   \n",
       "\n",
       "  Predicted_Sentiment  Match  \n",
       "0            Positive  False  \n",
       "1            Positive  False  \n",
       "2            Positive  False  \n",
       "3            Positive  False  \n",
       "4             Neutral  False  "
      ]
     },
     "execution_count": 244,
     "metadata": {},
     "output_type": "execute_result"
    }
   ],
   "source": [
    "df.head()"
   ]
  },
  {
   "cell_type": "code",
   "execution_count": 245,
   "id": "c157f1df-f9b8-433e-a8c3-c8eb930b85a9",
   "metadata": {},
   "outputs": [
    {
     "data": {
      "image/png": "[encoded data removed]",
      "text/plain": [
       "<Figure size 800x500 with 1 Axes>"
      ]
     },
     "metadata": {},
     "output_type": "display_data"
    }
   ],
   "source": [
    "# Visualize sentiment distribution\n",
    "plt.figure(figsize=(8, 5))\n",
    "ax = sns.countplot(data=df, x=\"Predicted_Sentiment\", palette=\"viridis\")\n",
    "plt.xlabel(\"Sentiment Type\")\n",
    "plt.ylabel(\"Count\")\n",
    "plt.title(\"Sentiment Distribution Using VADER\")\n",
    "\n",
    "# Annotate bars with integer counts\n",
    "for p in ax.patches:\n",
    "    ax.annotate(f'{int(p.get_height())}', \n",
    "                (p.get_x() + p.get_width() / 2, p.get_height()), \n",
    "                ha='center', va='bottom')\n",
    "\n",
    "plt.show()"
   ]
  },
  {
   "cell_type": "markdown",
   "id": "2822c8b9-983a-4c4f-ab83-3bd0fdfa6d68",
   "metadata": {},
   "source": [
    "The bar chart displays the sentiment distribution of a dataset analyzed using VADER. It categorizes sentiments into Positive, Neutral, and Negative. The majority of the data points (29,884) are classified as Positive, significantly outnumbering the Neutral (10,067) and Negative (10,049) sentiments. This suggests that the dataset contains a strong positive sentiment bias. The near-equal distribution of Neutral and Negative sentiments indicates a balanced presence of non-positive sentiments. This insight can help in understanding the general sentiment trends in the dataset and refining sentiment analysis models accordingly."
   ]
  },
  {
   "cell_type": "code",
   "execution_count": 247,
   "id": "d17052e4-89cc-497c-bd76-21697758c950",
   "metadata": {},
   "outputs": [
    {
     "data": {
      "image/png": "[encoded data removed]",
      "text/plain": [
       "<Figure size 1000x600 with 1 Axes>"
      ]
     },
     "metadata": {},
     "output_type": "display_data"
    }
   ],
   "source": [
    "# Sentiment distribution per category\n",
    "plt.figure(figsize=(10, 6))\n",
    "ax = sns.countplot(data=df, x=\"Category\", hue=\"Predicted_Sentiment\", palette=\"coolwarm\")\n",
    "plt.xlabel(\"Product Category\")\n",
    "plt.ylabel(\"Count\")\n",
    "plt.title(\"Sentiment Distribution per Product Category\")\n",
    "plt.xticks(rotation=45)\n",
    "\n",
    "# Annotate bars with integer values\n",
    "for p in ax.patches:\n",
    "    ax.annotate(f'{int(p.get_height())}', \n",
    "                (p.get_x() + p.get_width() / 2, p.get_height()), \n",
    "                ha='center', va='bottom')\n",
    "\n",
    "plt.show()\n"
   ]
  },
  {
   "cell_type": "markdown",
   "id": "eb65805d-5419-423a-8cb2-b33adf9508b3",
   "metadata": {},
   "source": [
    "The bar chart illustrates the distribution of predicted sentiments (Positive, Neutral, Negative) across various product categories. Positive sentiment dominates in all categories, particularly in Electronics (10,490) and Clothing (7,414). Electronics also has the highest counts for Neutral (3,479) and Negative (3,531) sentiments, indicating a more mixed reception compared to other categories. Clothing has no negative reviews, while categories like Beauty, Books, Sports, and Toys have relatively lower sentiment counts overall. This suggests that customer perception varies significantly across categories, with some receiving predominantly positive feedback while others exhibit a more balanced sentiment distribution."
   ]
  },
  {
   "cell_type": "code",
   "execution_count": 249,
   "id": "df8de2f3-6cf0-4590-8a1d-749aa9492b32",
   "metadata": {},
   "outputs": [
    {
     "name": "stdout",
     "output_type": "stream",
     "text": [
      "Average Rating per Sentiment:\n",
      "Predicted_Sentiment\n",
      "Negative    3.015126\n",
      "Neutral     2.983510\n",
      "Positive    3.017969\n",
      "Name: Rating, dtype: float64\n"
     ]
    }
   ],
   "source": [
    "# Average rating per sentiment\n",
    "sentiment_ratings = df.groupby(\"Predicted_Sentiment\")[\"Rating\"].mean()\n",
    "print(\"Average Rating per Sentiment:\")\n",
    "print(sentiment_ratings)"
   ]
  },
  {
   "cell_type": "markdown",
   "id": "7f2c0aa7-4578-451f-9ff8-5b59fdf2a490",
   "metadata": {},
   "source": [
    "The code first groups the dataset by the \"Predicted_Sentiment\" column and calculates the average rating for each sentiment category using the .groupby() function. Specifically, it selects the \"Rating\" column and computes its mean for each sentiment category. The computed averages are then printed after displaying the header \"Average Rating per Sentiment:\". This approach helps in understanding how customer ratings vary across different sentiment classifications.\n",
    "\n",
    "The output shows that the average ratings for Positive (3.02), Negative (3.01), and Neutral (2.98) sentiments are very close to each other. This suggests that even reviews classified as Negative have relatively high ratings, which might indicate that users often provide constructive feedback rather than outright criticism. It also implies a possible misalignment between textual sentiment classification and numerical ratings, as sentiment analysis focuses on textual content, whereas star ratings may reflect an overall experience rather than just the sentiment in the review text."
   ]
  },
  {
   "cell_type": "code",
   "execution_count": 251,
   "id": "8f99bab7-efa7-44de-becf-4fbeb95603d2",
   "metadata": {},
   "outputs": [
    {
     "data": {
      "image/png": "[encoded data removed]",
      "text/plain": [
       "<Figure size 800x500 with 1 Axes>"
      ]
     },
     "metadata": {},
     "output_type": "display_data"
    }
   ],
   "source": [
    "# Distribution of review lengths\n",
    "df[\"Review_Length\"] = df[\"Review_Text\"].apply(lambda x: len(x.split()) if isinstance(x, str) else 0)\n",
    "plt.figure(figsize=(8, 5))\n",
    "ax = sns.histplot(df[\"Review_Length\"], bins=30, kde=True, color='blue')\n",
    "plt.xlabel(\"Number of Words in Review\")\n",
    "plt.ylabel(\"Frequency\")\n",
    "plt.title(\"Distribution of Review Lengths\")\n",
    "for p in ax.patches:\n",
    "    ax.annotate(f'{p.get_height():.0f}', (p.get_x() + p.get_width() / 2, p.get_height()), ha='center', va='bottom')\n",
    "plt.show()"
   ]
  },
  {
   "cell_type": "markdown",
   "id": "964f2632-ade2-41f2-8887-6baf5a8a48e2",
   "metadata": {},
   "source": [
    "The histogram illustrates the distribution of review lengths based on the number of words in each review. The frequency of reviews follows a right-skewed distribution, peaking around 10-14 words, indicating that most reviews contain a moderate length of text. The density curve overlays the histogram, confirming a smooth distribution with a gradual decline as the review length increases. Reviews with fewer than 10 words and more than 20 words are less frequent, suggesting that customers tend to write concise reviews rather than extremely short or lengthy ones. The presence of zeros at certain bins might indicate gaps in the dataset or filtering applied to specific lengths."
   ]
  },
  {
   "cell_type": "code",
   "execution_count": 253,
   "id": "5a68ee56-5cf5-4e4e-a044-5563216d1591",
   "metadata": {},
   "outputs": [],
   "source": [
    "# Save processed dataset\n",
    "df.to_csv(\"sentiment_analysis_results.csv\", index=False)"
   ]
  },
  {
   "cell_type": "markdown",
   "id": "63785ee0-8f24-4058-994d-93512dab0dde",
   "metadata": {},
   "source": [
    "# CONCLUSION\n",
    "The sentiment analysis and review data insights indicate that while most reviews are classified as positive, the average ratings across sentiments remain closely clustered around 3.0, suggesting a possible disconnect between textual sentiment classification and numerical ratings. The sentiment distribution across product categories shows that electronics and clothing receive the most reviews, with a relatively high proportion of negative sentiments in electronics. The distribution of review lengths follows a right-skewed pattern, with most reviews containing 10-14 words, highlighting a preference for concise feedback. These findings emphasize the need for a deeper analysis of sentiment classification accuracy and its alignment with user ratings, as well as the importance of understanding how different product categories influence customer sentiment."
   ]
  }
 ],
 "metadata": {
  "kernelspec": {
   "display_name": "Python 3 (ipykernel)",
   "language": "python",
   "name": "python3"
  },
  "language_info": {
   "codemirror_mode": {
    "name": "ipython",
    "version": 3
   },
   "file_extension": ".py",
   "mimetype": "text/x-python",
   "name": "python",
   "nbconvert_exporter": "python",
   "pygments_lexer": "ipython3",
   "version": "3.12.7"
  }
 },
 "nbformat": 4,
 "nbformat_minor": 5
}
